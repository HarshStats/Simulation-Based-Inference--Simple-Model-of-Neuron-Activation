{
 "cells": [
  {
   "cell_type": "markdown",
   "id": "46c07ca7",
   "metadata": {},
   "source": [
    "# Simple Model of Neuron Activation: Simulation-Based Inference (SBI) Project\n",
    "\n",
    "**Lecturer:** Daniel (daniel.habermann@tu-dortmund.de)\n",
    "\n",
    "---\n",
    "\n",
    "## 1. Project Setup and Environment Preparation\n",
    "\n",
    "This notebook serves as the main, industrial-standard, and highly detailed documentation and code base for the project: *Simulation-Based Inference for a Simple Model of Neuron Activation*.\n",
    "\n",
    "### Objectives\n",
    "- Implement a simple Leaky Integrate-and-Fire (LIF) neuron model.\n",
    "- Simulate neuron activation trajectories.\n",
    "- Use BayesFlow for neural posterior density estimation.\n",
    "- Investigate parameter recovery from simulated data.\n",
    "\n",
    "### Project Structure\n",
    "- `src/`: Source code for models, data generation, and utilities.\n",
    "- `notebooks/`: Jupyter notebooks for analysis and reporting.\n",
    "- `litrature_references/`: Reference materials and papers.\n",
    "- `requirements.txt`: Project dependencies.\n",
    "\n",
    "### Environment Preparation\n",
    "- Python 3.12+\n",
    "- Virtual environment for reproducibility\n",
    "- All dependencies listed in `requirements.txt`\n",
    "\n",
    "**Reproducibility:**\n",
    "- Set random seeds where applicable.\n",
    "- Document all steps and parameters.\n",
    "\n",
    "---\n",
    "\n",
    "**Next:** We will import all required libraries and explain their roles in the project."
   ]
  },
  {
   "cell_type": "code",
   "execution_count": null,
   "id": "3b03d470",
   "metadata": {},
   "outputs": [],
   "source": [
    "# Import required libraries\n",
    "import numpy as np\n",
    "import matplotlib.pyplot as plt\n",
    "import bayesflow\n",
    "import os\n",
    "import sys\n",
    "import random\n",
    "import warnings\n",
    "from typing import Any, Dict, Tuple, List\n",
    "\n",
    "np.random.seed(42)\n",
    "random.seed(42)\n",
    "%matplotlib inline\n",
    "warnings.filterwarnings('ignore')"
   ]
  }
 ],
 "metadata": {
  "language_info": {
   "name": "python"
  }
 },
 "nbformat": 4,
 "nbformat_minor": 5
}
