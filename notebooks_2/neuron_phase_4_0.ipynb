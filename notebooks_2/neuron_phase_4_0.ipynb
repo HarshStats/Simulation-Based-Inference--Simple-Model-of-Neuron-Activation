{
 "cells": [
  {
   "cell_type": "markdown",
   "id": "dc9b57df",
   "metadata": {},
   "source": [
    "# Phase 4.0: Simulation-Based Inference for LIF Neuron Model with BayesFlow\n",
    "\n",
    "This notebook demonstrates a full simulation-based inference (SBI) workflow for a Leaky Integrate-and-Fire (LIF) neuron model using BayesFlow v2+. We will:\n",
    "- Define the prior and simulator for the LIF model\n",
    "- Build and train a neural posterior with BayesFlow\n",
    "- Perform inference and evaluate parameter recovery\n",
    "\n",
    "Each step is explained in detail for clarity and reproducibility."
   ]
  },
  {
   "cell_type": "markdown",
   "id": "63b02792",
   "metadata": {},
   "source": [
    "## 1. Environment Setup and Imports\n",
    "\n",
    "First, ensure you have the required packages installed. You need:\n",
    "- `bayesflow` (v2+)\n",
    "- `jax`, `jaxlib` (for JAX backend)\n",
    "- `keras` (v3+)\n",
    "- `numpy`, `matplotlib`, `scipy`\n",
    "\n",
    "You can install them with:\n",
    "```bash\n",
    "pip install bayesflow jax jaxlib keras numpy matplotlib scipy\n",
    "```\n",
    "\n",
    "Now, import all necessary libraries and set up the backend."
   ]
  },
  {
   "cell_type": "code",
   "execution_count": 1,
   "id": "98410a60",
   "metadata": {},
   "outputs": [
    {
     "name": "stderr",
     "output_type": "stream",
     "text": [
      "INFO:bayesflow:Using backend 'jax'\n"
     ]
    }
   ],
   "source": [
    "import os\n",
    "os.environ[\"KERAS_BACKEND\"] = \"jax\"  # Use JAX backend for BayesFlow\n",
    "os.environ[\"CUDA_VISIBLE_DEVICES\"] = \"\"  # Force JAX to use CPU only\n",
    "import sys\n",
    "sys.path.append(os.path.abspath(os.path.join(os.getcwd(), '..')))\n",
    "\n",
    "import numpy as np\n",
    "import bayesflow as bf\n",
    "from src.lif_model import lif_simulate\n",
    "from scipy.stats import uniform\n",
    "import matplotlib.pyplot as plt"
   ]
  },
  {
   "cell_type": "markdown",
   "id": "43f7f5ff",
   "metadata": {},
   "source": [
    "## 2. Define the Prior Distribution\n",
    "\n",
    "The prior defines plausible ranges for each LIF model parameter. We use uniform distributions for each parameter, matching biological constraints."
   ]
  },
  {
   "cell_type": "code",
   "execution_count": 2,
   "id": "b921ed34",
   "metadata": {},
   "outputs": [],
   "source": [
    "# Parameter bounds for the LIF model\n",
    "PARAM_BOUNDS = {\n",
    "    'tau_m':   (5.0, 30.0),    # Membrane time constant (ms)\n",
    "    'E_L':     (-80.0, -65.0), # Resting potential (mV)\n",
    "    'g_L':     (5.0, 15.0),    # Leak conductance (nS)\n",
    "    'V_th':    (-60.0, -50.0), # Spike threshold (mV)\n",
    "    'V_reset': (-80.0, -65.0), # Reset potential (mV)\n",
    "    'I':       (50.0, 300.0),  # Input current (pA)\n",
    "}\n",
    "PARAM_KEYS = list(PARAM_BOUNDS.keys())\n",
    "\n",
    "def prior(batch_size):\n",
    "    \"\"\"Sample parameters from the prior.\"\"\"\n",
    "    samples = []\n",
    "    for key in PARAM_KEYS:\n",
    "        low, high = PARAM_BOUNDS[key]\n",
    "        samples.append(uniform.rvs(loc=low, scale=high-low, size=batch_size))\n",
    "    return np.stack(samples, axis=1)"
   ]
  },
  {
   "cell_type": "markdown",
   "id": "fb2308e0",
   "metadata": {},
   "source": [
    "## 3. Define the Simulator\n",
    "\n",
    "The simulator generates voltage traces from the LIF model given a set of parameters. For BayesFlow v2+, we wrap the simulator in a class with a `.sample(batch_size)` method that returns a dictionary with each parameter as a separate key, plus the simulated trace."
   ]
  },
  {
   "cell_type": "code",
   "execution_count": 3,
   "id": "e9b6af90",
   "metadata": {},
   "outputs": [],
   "source": [
    "class LIFSimulator:\n",
    "    def __init__(self, param_keys, noise_std=0.5):\n",
    "        self.param_keys = param_keys\n",
    "        self.noise_std = noise_std\n",
    "\n",
    "    def sample(self, batch_size):\n",
    "        params = prior(batch_size)\n",
    "        traces = []\n",
    "        param_dicts = {key: [] for key in self.param_keys}\n",
    "        for p in params:\n",
    "            param_dict = dict(zip(self.param_keys, p))\n",
    "            sim_args = {\n",
    "                'T': 200.0,\n",
    "                'dt': 0.1,\n",
    "                'E_L': param_dict['E_L'],\n",
    "                'V_th': param_dict['V_th'],\n",
    "                'V_reset': param_dict['V_reset'],\n",
    "                'tau_m': param_dict['tau_m'],\n",
    "                'g_L': param_dict['g_L'],\n",
    "                'I': param_dict['I'],\n",
    "                'tref': 2.0\n",
    "            }\n",
    "            t, V, spikes = lif_simulate(**sim_args)\n",
    "            V_noisy = V + np.random.normal(0, self.noise_std, size=V.shape)\n",
    "            traces.append(V_noisy)\n",
    "            for key in self.param_keys:\n",
    "                param_dicts[key].append(param_dict[key])\n",
    "        # Convert lists to arrays\n",
    "        for key in param_dicts:\n",
    "            param_dicts[key] = np.array(param_dicts[key]).reshape(-1, 1)\n",
    "        out = {**param_dicts, \"trace\": np.stack(traces, axis=0)[..., np.newaxis]}\n",
    "        return out\n",
    "\n",
    "# Instantiate the simulator\n",
    "simulator = LIFSimulator(PARAM_KEYS)"
   ]
  },
  {
   "cell_type": "markdown",
   "id": "5f5c1560",
   "metadata": {},
   "source": [
    "## 4. Check Simulator Output\n",
    "\n",
    "Let's verify that the simulator returns the correct keys and shapes for BayesFlow."
   ]
  },
  {
   "cell_type": "code",
   "execution_count": 4,
   "id": "18be32e2",
   "metadata": {},
   "outputs": [
    {
     "name": "stdout",
     "output_type": "stream",
     "text": [
      "Simulator output keys: ['tau_m', 'E_L', 'g_L', 'V_th', 'V_reset', 'I', 'trace']\n",
      "tau_m: shape (2, 1)\n",
      "E_L: shape (2, 1)\n",
      "g_L: shape (2, 1)\n",
      "V_th: shape (2, 1)\n",
      "V_reset: shape (2, 1)\n",
      "I: shape (2, 1)\n",
      "trace: shape (2, 2000, 1)\n"
     ]
    }
   ],
   "source": [
    "sim_out = simulator.sample(2)\n",
    "print(\"Simulator output keys:\", list(sim_out.keys()))\n",
    "for k, v in sim_out.items():\n",
    "    print(f\"{k}: shape {v.shape}\")"
   ]
  },
  {
   "cell_type": "markdown",
   "id": "525fa85f",
   "metadata": {},
   "source": [
    "## 5. Define BayesFlow Networks and Workflow\n",
    "\n",
    "We use BayesFlow's `TimeSeriesNetwork` for summary extraction and `CouplingFlow` for posterior estimation. The `BasicWorkflow` object manages the full SBI process."
   ]
  },
  {
   "cell_type": "code",
   "execution_count": 5,
   "id": "d51dc135",
   "metadata": {},
   "outputs": [
    {
     "name": "stderr",
     "output_type": "stream",
     "text": [
      "2025-07-03 21:19:57.362574: E external/local_xla/xla/stream_executor/cuda/cuda_fft.cc:467] Unable to register cuFFT factory: Attempting to register factory for plugin cuFFT when one has already been registered\n",
      "WARNING: All log messages before absl::InitializeLog() is called are written to STDERR\n",
      "E0000 00:00:1751577597.379483   38202 cuda_dnn.cc:8579] Unable to register cuDNN factory: Attempting to register factory for plugin cuDNN when one has already been registered\n",
      "E0000 00:00:1751577597.386780   38202 cuda_blas.cc:1407] Unable to register cuBLAS factory: Attempting to register factory for plugin cuBLAS when one has already been registered\n",
      "W0000 00:00:1751577597.406409   38202 computation_placer.cc:177] computation placer already registered. Please check linkage and avoid linking the same target more than once.\n",
      "W0000 00:00:1751577597.406427   38202 computation_placer.cc:177] computation placer already registered. Please check linkage and avoid linking the same target more than once.\n",
      "W0000 00:00:1751577597.406430   38202 computation_placer.cc:177] computation placer already registered. Please check linkage and avoid linking the same target more than once.\n",
      "W0000 00:00:1751577597.406431   38202 computation_placer.cc:177] computation placer already registered. Please check linkage and avoid linking the same target more than once.\n"
     ]
    }
   ],
   "source": [
    "summary_network = bf.networks.TimeSeriesNetwork()\n",
    "inference_network = bf.networks.CouplingFlow()\n",
    "\n",
    "workflow = bf.BasicWorkflow(\n",
    "    inference_network=inference_network,\n",
    "    summary_network=summary_network,\n",
    "    inference_variables=PARAM_KEYS,\n",
    "    summary_variables=[\"trace\"],\n",
    "    simulator=simulator\n",
    ")"
   ]
  },
  {
   "cell_type": "markdown",
   "id": "1bc012f0",
   "metadata": {},
   "source": [
    "## 6. Train the Neural Posterior\n",
    "\n",
    "We train the neural posterior using `workflow.fit_online`, which draws fresh parameter/data pairs on-the-fly. This enables robust amortized inference."
   ]
  },
  {
   "cell_type": "code",
   "execution_count": 6,
   "id": "9d770fb3",
   "metadata": {},
   "outputs": [
    {
     "name": "stderr",
     "output_type": "stream",
     "text": [
      "INFO:bayesflow:Fitting on dataset instance of OnlineDataset.\n",
      "INFO:bayesflow:Building on a test batch.\n"
     ]
    },
    {
     "name": "stdout",
     "output_type": "stream",
     "text": [
      "Epoch 1/10\n"
     ]
    },
    {
     "ename": "",
     "evalue": "",
     "output_type": "error",
     "traceback": [
      "\u001b[1;31mThe Kernel crashed while executing code in the current cell or a previous cell. \n",
      "\u001b[1;31mPlease review the code in the cell(s) to identify a possible cause of the failure. \n",
      "\u001b[1;31mClick <a href='https://aka.ms/vscodeJupyterKernelCrash'>here</a> for more info. \n",
      "\u001b[1;31mView Jupyter <a href='command:jupyter.viewOutput'>log</a> for further details."
     ]
    }
   ],
   "source": [
    "history = workflow.fit_online(\n",
    "    epochs=10,                # Increase for real use\n",
    "    batch_size=128,\n",
    "    verbose=True\n",
    ")\n",
    "print(\"Training complete.\")"
   ]
  },
  {
   "cell_type": "markdown",
   "id": "ee0b4b11",
   "metadata": {},
   "source": [
    "## 7. Inference and Parameter Recovery\n",
    "\n",
    "We now test the trained posterior by simulating new data, running inference, and comparing the posterior samples to the true parameters."
   ]
  },
  {
   "cell_type": "code",
   "execution_count": null,
   "id": "5b5698ca",
   "metadata": {},
   "outputs": [],
   "source": [
    "# Simulate new data\n",
    "sim_out = simulator.sample(1)\n",
    "obs_dict = {\"trace\": sim_out[\"trace\"]}\n",
    "true_params = np.array([sim_out[key][0, 0] for key in PARAM_KEYS])\n",
    "\n",
    "# Run inference\n",
    "posterior_samples = workflow.posterior.sample(\n",
    "    conditions=obs_dict,\n",
    "    n_samples=1000\n",
    ")\n",
    "\n",
    "# Plot posterior samples vs. true parameters\n",
    "fig, axes = plt.subplots(1, len(PARAM_KEYS), figsize=(3*len(PARAM_KEYS), 3))\n",
    "for i, key in enumerate(PARAM_KEYS):\n",
    "    ax = axes[i] if len(PARAM_KEYS) > 1 else axes\n",
    "    ax.hist(posterior_samples[key].flatten(), bins=30, alpha=0.7, label='Posterior')\n",
    "    ax.axvline(true_params[i], color='r', linestyle='--', label='True')\n",
    "    ax.set_title(key)\n",
    "    ax.legend()\n",
    "plt.tight_layout()\n",
    "plt.show()"
   ]
  },
  {
   "cell_type": "markdown",
   "id": "aa8839a2",
   "metadata": {},
   "source": [
    "## 8. Summary\n",
    "\n",
    "- We defined a prior and simulator for the LIF neuron model.\n",
    "- Trained a BayesFlow neural posterior for parameter inference.\n",
    "- Demonstrated parameter recovery on new simulated data.\n",
    "\n",
    "For best results, increase the number of training epochs and tune the network as needed."
   ]
  }
 ],
 "metadata": {
  "kernelspec": {
   "display_name": ".venv",
   "language": "python",
   "name": "python3"
  },
  "language_info": {
   "codemirror_mode": {
    "name": "ipython",
    "version": 3
   },
   "file_extension": ".py",
   "mimetype": "text/x-python",
   "name": "python",
   "nbconvert_exporter": "python",
   "pygments_lexer": "ipython3",
   "version": "3.12.3"
  }
 },
 "nbformat": 4,
 "nbformat_minor": 5
}
